{
  "nbformat": 4,
  "nbformat_minor": 0,
  "metadata": {
    "colab": {
      "provenance": [],
      "authorship_tag": "ABX9TyObpa/R2tSf+VQtq5l1zSlM",
      "include_colab_link": true
    },
    "kernelspec": {
      "name": "python3",
      "display_name": "Python 3"
    },
    "language_info": {
      "name": "python"
    }
  },
  "cells": [
    {
      "cell_type": "markdown",
      "metadata": {
        "id": "view-in-github",
        "colab_type": "text"
      },
      "source": [
        "<a href=\"https://colab.research.google.com/github/Angelo-Mascarenhas123/Dicion-rio/blob/main/Dicionario.ipynb\" target=\"_parent\"><img src=\"https://colab.research.google.com/assets/colab-badge.svg\" alt=\"Open In Colab\"/></a>"
      ]
    },
    {
      "cell_type": "code",
      "execution_count": 41,
      "metadata": {
        "id": "jRDhxJFSA725"
      },
      "outputs": [],
      "source": [
        "# Dicionário com as notas de alguns alunos\n",
        "notas = {'Teo': 8.5, 'Cristiano': 8.9, 'Matson': 7.7}"
      ]
    },
    {
      "cell_type": "code",
      "source": [
        "#1- Exiba a nota do aluno Matson.\n",
        "notas['Matson']"
      ],
      "metadata": {
        "colab": {
          "base_uri": "https://localhost:8080/"
        },
        "id": "3VcYcM00BQ6H",
        "outputId": "20229bf7-1220-41bc-d1f5-fffd53996d2e"
      },
      "execution_count": 42,
      "outputs": [
        {
          "output_type": "execute_result",
          "data": {
            "text/plain": [
              "7.7"
            ]
          },
          "metadata": {},
          "execution_count": 42
        }
      ]
    },
    {
      "cell_type": "code",
      "source": [
        "#2- Adicione um novo aluno chamado \"Bruna\" com a nota 8.7.\n",
        "notas['Bruna'] = 8.7"
      ],
      "metadata": {
        "id": "vdYwv9r0Bhie"
      },
      "execution_count": 43,
      "outputs": []
    },
    {
      "cell_type": "code",
      "source": [
        "#3- Atualize a nota do aluno \"Teo\" para 9.2.\n",
        "notas['Teo'] = 9.2"
      ],
      "metadata": {
        "id": "H7-35p9zBsnP"
      },
      "execution_count": 44,
      "outputs": []
    },
    {
      "cell_type": "code",
      "source": [
        "#4- Verifique se o aluno \"Carlos\" está no dicionário.\n",
        "notas.get('Carlos', 'Aluno não encontrado')"
      ],
      "metadata": {
        "colab": {
          "base_uri": "https://localhost:8080/",
          "height": 35
        },
        "id": "0ef779rNBwDs",
        "outputId": "66899092-88f0-4771-f027-b1e0c3006ba2"
      },
      "execution_count": 45,
      "outputs": [
        {
          "output_type": "execute_result",
          "data": {
            "text/plain": [
              "'Aluno não encontrado'"
            ],
            "application/vnd.google.colaboratory.intrinsic+json": {
              "type": "string"
            }
          },
          "metadata": {},
          "execution_count": 45
        }
      ]
    },
    {
      "cell_type": "code",
      "source": [
        "#5- Apague o aluno \"Matson\" do dicionário.\n",
        "del notas['Matson']"
      ],
      "metadata": {
        "id": "KRG605guCSAm"
      },
      "execution_count": 46,
      "outputs": []
    },
    {
      "cell_type": "code",
      "source": [
        "#6- Adicione dois novos alunos com notas à sua escolha.\n",
        "notas['Carlos'] = 9.5\n",
        "notas['Maria'] = 8.0"
      ],
      "metadata": {
        "id": "1XAVphGYErZr"
      },
      "execution_count": 47,
      "outputs": []
    },
    {
      "cell_type": "code",
      "source": [
        "#7- Mostre todas as chaves (nomes dos alunos).\n",
        "notas.keys()"
      ],
      "metadata": {
        "colab": {
          "base_uri": "https://localhost:8080/"
        },
        "id": "cuiZBSokGcHX",
        "outputId": "ec5ae52d-290e-4090-fbd8-c0740331fa71"
      },
      "execution_count": 48,
      "outputs": [
        {
          "output_type": "execute_result",
          "data": {
            "text/plain": [
              "dict_keys(['Teo', 'Cristiano', 'Bruna', 'Carlos', 'Maria'])"
            ]
          },
          "metadata": {},
          "execution_count": 48
        }
      ]
    },
    {
      "cell_type": "code",
      "source": [
        "#8- Mostre todos os valores (notas dos alunos).\n",
        "notas.values()"
      ],
      "metadata": {
        "colab": {
          "base_uri": "https://localhost:8080/"
        },
        "id": "E7RP9N07G-05",
        "outputId": "ffc8862e-328e-4471-9274-12acfd82b331"
      },
      "execution_count": 49,
      "outputs": [
        {
          "output_type": "execute_result",
          "data": {
            "text/plain": [
              "dict_values([9.2, 8.9, 8.7, 9.5, 8.0])"
            ]
          },
          "metadata": {},
          "execution_count": 49
        }
      ]
    },
    {
      "cell_type": "code",
      "source": [
        "#9- Use o método .get() para tentar buscar a nota de \"Islla\", e retorne \"Aluno não encontrado\" caso ele não exista.\n",
        "nota_islla = notas.get('Islla', 'Aluno não encontrado')\n",
        "print(nota_islla)"
      ],
      "metadata": {
        "colab": {
          "base_uri": "https://localhost:8080/"
        },
        "id": "mKlw8csJHS94",
        "outputId": "bbf04712-47a7-4c26-f89d-3469ec44032c"
      },
      "execution_count": 50,
      "outputs": [
        {
          "output_type": "stream",
          "name": "stdout",
          "text": [
            "Aluno não encontrado\n"
          ]
        }
      ]
    },
    {
      "cell_type": "code",
      "source": [
        "#10- Use o método .get() para tentar buscar a nota de algum aluno, e a retorne.\n",
        "nota_aluno = notas.get('Teo', 'Aluno não encontrado')\n",
        "print(nota_aluno)"
      ],
      "metadata": {
        "colab": {
          "base_uri": "https://localhost:8080/"
        },
        "id": "MLPi7K3VHj1Q",
        "outputId": "d3ac8998-fa8c-4529-c5a2-3257d711584d"
      },
      "execution_count": 51,
      "outputs": [
        {
          "output_type": "stream",
          "name": "stdout",
          "text": [
            "9.2\n"
          ]
        }
      ]
    }
  ]
}