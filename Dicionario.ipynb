{
  "nbformat": 4,
  "nbformat_minor": 0,
  "metadata": {
    "colab": {
      "provenance": [],
      "authorship_tag": "ABX9TyPuCOLDNlEITqG+RZmGICov",
      "include_colab_link": true
    },
    "kernelspec": {
      "name": "python3",
      "display_name": "Python 3"
    },
    "language_info": {
      "name": "python"
    }
  },
  "cells": [
    {
      "cell_type": "markdown",
      "metadata": {
        "id": "view-in-github",
        "colab_type": "text"
      },
      "source": [
        "<a href=\"https://colab.research.google.com/github/Angelo-Mascarenhas123/Dicion-rio/blob/main/Dicionario.ipynb\" target=\"_parent\"><img src=\"https://colab.research.google.com/assets/colab-badge.svg\" alt=\"Open In Colab\"/></a>"
      ]
    },
    {
      "cell_type": "code",
      "execution_count": 17,
      "metadata": {
        "id": "jRDhxJFSA725"
      },
      "outputs": [],
      "source": [
        "# Dicionário com as notas de alguns alunos\n",
        "notas = {'Teo': 8.5, 'Cristiano': 8.9, 'Matson': 7.7}"
      ]
    },
    {
      "cell_type": "code",
      "source": [
        "#1- Exiba a nota do aluno Matson.\n",
        "notas['Matson']"
      ],
      "metadata": {
        "colab": {
          "base_uri": "https://localhost:8080/"
        },
        "id": "3VcYcM00BQ6H",
        "outputId": "9e1a6c3d-fcb8-41a1-bb38-9dae9cc4f38d"
      },
      "execution_count": 18,
      "outputs": [
        {
          "output_type": "execute_result",
          "data": {
            "text/plain": [
              "7.7"
            ]
          },
          "metadata": {},
          "execution_count": 18
        }
      ]
    },
    {
      "cell_type": "code",
      "source": [
        "#2- Adicione um novo aluno chamado \"Bruna\" com a nota 8.7.\n",
        "notas['Bruna'] = 8.7"
      ],
      "metadata": {
        "id": "vdYwv9r0Bhie"
      },
      "execution_count": 19,
      "outputs": []
    },
    {
      "cell_type": "code",
      "source": [
        "#3- Atualize a nota do aluno \"Teo\" para 9.2.\n",
        "notas['Teo'] = 9.2"
      ],
      "metadata": {
        "id": "H7-35p9zBsnP"
      },
      "execution_count": 20,
      "outputs": []
    },
    {
      "cell_type": "code",
      "source": [
        "#4- Verifique se o aluno \"Carlos\" está no dicionário.\n",
        "if 'Carlos' in notas:\n",
        "    print('Carlos está no dicionário.')\n",
        "else:\n",
        "    print('Carlos não está no dicionário.')"
      ],
      "metadata": {
        "colab": {
          "base_uri": "https://localhost:8080/"
        },
        "id": "0ef779rNBwDs",
        "outputId": "0274836d-196a-478d-c09e-f27c9069a114"
      },
      "execution_count": 21,
      "outputs": [
        {
          "output_type": "stream",
          "name": "stdout",
          "text": [
            "Carlos não está no dicionário.\n"
          ]
        }
      ]
    },
    {
      "cell_type": "code",
      "source": [
        "#5- Apague o aluno \"Matson\" do dicionário.\n",
        "del notas['Matson']"
      ],
      "metadata": {
        "id": "KRG605guCSAm"
      },
      "execution_count": 22,
      "outputs": []
    },
    {
      "cell_type": "code",
      "source": [
        "#6- Adicione dois novos alunos com notas à sua escolha.\n",
        "notas['Carlos'] = 9.5\n",
        "notas['Maria'] = 8.0"
      ],
      "metadata": {
        "id": "1XAVphGYErZr"
      },
      "execution_count": 23,
      "outputs": []
    },
    {
      "cell_type": "code",
      "source": [
        "#7- Mostre todas as chaves (nomes dos alunos).\n",
        "for nome, nota in notas.items():\n",
        "    print(nome)"
      ],
      "metadata": {
        "colab": {
          "base_uri": "https://localhost:8080/"
        },
        "id": "cuiZBSokGcHX",
        "outputId": "fe4f687c-c91f-4dea-d5f0-6dc06feb3f68"
      },
      "execution_count": 24,
      "outputs": [
        {
          "output_type": "stream",
          "name": "stdout",
          "text": [
            "Teo\n",
            "Cristiano\n",
            "Bruna\n",
            "Carlos\n",
            "Maria\n"
          ]
        }
      ]
    },
    {
      "cell_type": "code",
      "source": [
        "#8- Mostre todos os valores (notas dos alunos).\n",
        "for nome, nota in notas.items():\n",
        "    if isinstance(nota, (int, float)):\n",
        "        print(nota)"
      ],
      "metadata": {
        "colab": {
          "base_uri": "https://localhost:8080/"
        },
        "id": "E7RP9N07G-05",
        "outputId": "910bf20b-42b1-49a6-a57d-01785ba90620"
      },
      "execution_count": 25,
      "outputs": [
        {
          "output_type": "stream",
          "name": "stdout",
          "text": [
            "9.2\n",
            "8.9\n",
            "8.7\n",
            "9.5\n",
            "8.0\n"
          ]
        }
      ]
    },
    {
      "cell_type": "code",
      "source": [
        "#9- Use o método .get() para tentar buscar a nota de \"Islla\", e retorne \"Aluno não encontrado\" caso ele não exista.\n",
        "nota_islla = notas.get('Islla', 'Aluno não encontrado')\n",
        "print(nota_islla)"
      ],
      "metadata": {
        "colab": {
          "base_uri": "https://localhost:8080/"
        },
        "id": "mKlw8csJHS94",
        "outputId": "03660a0e-54ac-4e94-aa97-bb6cb3678996"
      },
      "execution_count": 26,
      "outputs": [
        {
          "output_type": "stream",
          "name": "stdout",
          "text": [
            "Aluno não encontrado\n"
          ]
        }
      ]
    },
    {
      "cell_type": "code",
      "source": [
        "#10- Use o método .get() para tentar buscar a nota de algum aluno, e a retorne.\n",
        "nota_aluno = notas.get('Teo', 'Aluno não encontrado')\n",
        "print(nota_aluno)"
      ],
      "metadata": {
        "colab": {
          "base_uri": "https://localhost:8080/"
        },
        "id": "MLPi7K3VHj1Q",
        "outputId": "fbb7b1ac-fa8e-430e-cc95-3811cdad981e"
      },
      "execution_count": 27,
      "outputs": [
        {
          "output_type": "stream",
          "name": "stdout",
          "text": [
            "9.2\n"
          ]
        }
      ]
    }
  ]
}